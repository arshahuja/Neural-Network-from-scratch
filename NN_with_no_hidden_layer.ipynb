{
  "nbformat": 4,
  "nbformat_minor": 0,
  "metadata": {
    "colab": {
      "name": "NN with no hidden layer",
      "version": "0.3.2",
      "provenance": [],
      "collapsed_sections": [],
      "toc_visible": true
    },
    "kernelspec": {
      "name": "python3",
      "display_name": "Python 3"
    }
  },
  "cells": [
    {
      "metadata": {
        "id": "bX9sUyA7JGJj",
        "colab_type": "code",
        "colab": {}
      },
      "cell_type": "code",
      "source": [
        "import numpy as np\n",
        "import pandas as pd"
      ],
      "execution_count": 0,
      "outputs": []
    },
    {
      "metadata": {
        "id": "u-S-_u4sJJ5q",
        "colab_type": "code",
        "colab": {}
      },
      "cell_type": "code",
      "source": [
        "data=pd.read_csv('train.csv')\n",
        "#len(data)\n",
        "#data.head()"
      ],
      "execution_count": 0,
      "outputs": []
    },
    {
      "metadata": {
        "id": "iCywbgeMJzTP",
        "colab_type": "code",
        "colab": {
          "base_uri": "https://localhost:8080/",
          "height": 68
        },
        "outputId": "8a2dec2d-53c5-4cb7-abfb-55df8d7e595b"
      },
      "cell_type": "code",
      "source": [
        "y=pd.concat([data['label'],pd.get_dummies(data['label'],prefix='digit')],axis=1).drop(['label'],axis=1)\n",
        "y=y.as_matrix()\n",
        "print(y.shape)\n",
        "#y=data['label'].as_matrix()\n",
        "#y=y.reshape(-1,1)\n",
        "#print(y.shape)\n",
        "\n",
        "x=data.iloc[:,0:-1].as_matrix()\n",
        "\n",
        "#normalize the data\n",
        "x=x/255\n",
        "\n",
        "print(x.shape)\n",
        "\n",
        "weights=np.random.rand(784,10)/1000\n",
        "print(weights.shape)"
      ],
      "execution_count": 3,
      "outputs": [
        {
          "output_type": "stream",
          "text": [
            "(42000, 10)\n",
            "(42000, 784)\n",
            "(784, 10)\n"
          ],
          "name": "stdout"
        }
      ]
    },
    {
      "metadata": {
        "id": "jkuKK_iPK8Sl",
        "colab_type": "code",
        "colab": {}
      },
      "cell_type": "code",
      "source": [
        "#print(y)\n",
        "#print(x)\n",
        "#print(weights)"
      ],
      "execution_count": 0,
      "outputs": []
    },
    {
      "metadata": {
        "id": "iY8uH-K6MJ00",
        "colab_type": "code",
        "colab": {
          "base_uri": "https://localhost:8080/",
          "height": 1717
        },
        "outputId": "c6b890d1-5397-41ed-cd33-f8acd0de66fd"
      },
      "cell_type": "code",
      "source": [
        "for epochs in range(50):\n",
        "  for i in range(len(data)):\n",
        "    X=x[i].reshape(1,-1)\n",
        "    #X.shape\n",
        "    z=np.dot(X,weights).ravel()\n",
        "\n",
        "    #calculating Soft Max\n",
        "    exp=np.exp(z)\n",
        "    SM=exp/np.sum(exp)\n",
        "\n",
        "    log_pred=np.log(SM)\n",
        "    cost=-(np.sum(y[i]*log_pred))\n",
        "\n",
        "    #derivative\n",
        "    der=((y[i]*(SM-1)).reshape(10,1)*X.reshape(1,784)).T\n",
        "    weights=weights-(der*0.00000001)\n",
        "\n",
        "  #if epochs%1000==0:\n",
        "  print(\"at epochs \", epochs)\n",
        "  print(\"cost:\", cost)"
      ],
      "execution_count": 5,
      "outputs": [
        {
          "output_type": "stream",
          "text": [
            "at epochs  0\n",
            "cost: 2.3044019546111754\n",
            "at epochs  1\n",
            "cost: 2.3041655190578996\n",
            "at epochs  2\n",
            "cost: 2.3039291036862206\n",
            "at epochs  3\n",
            "cost: 2.303692708477842\n",
            "at epochs  4\n",
            "cost: 2.3034563334144775\n",
            "at epochs  5\n",
            "cost: 2.303219978477852\n",
            "at epochs  6\n",
            "cost: 2.3029836436496995\n",
            "at epochs  7\n",
            "cost: 2.3027473289117646\n",
            "at epochs  8\n",
            "cost: 2.302511034245801\n",
            "at epochs  9\n",
            "cost: 2.302274759633574\n",
            "at epochs  10\n",
            "cost: 2.3020385050568577\n",
            "at epochs  11\n",
            "cost: 2.301802270497438\n",
            "at epochs  12\n",
            "cost: 2.3015660559371094\n",
            "at epochs  13\n",
            "cost: 2.3013298613576776\n",
            "at epochs  14\n",
            "cost: 2.3010936867409586\n",
            "at epochs  15\n",
            "cost: 2.3008575320687776\n",
            "at epochs  16\n",
            "cost: 2.3006213973229728\n",
            "at epochs  17\n",
            "cost: 2.3003852824853896\n",
            "at epochs  18\n",
            "cost: 2.3001491875378863\n",
            "at epochs  19\n",
            "cost: 2.2999131124623307\n",
            "at epochs  20\n",
            "cost: 2.2996770572406002\n",
            "at epochs  21\n",
            "cost: 2.299441021854585\n",
            "at epochs  22\n",
            "cost: 2.299205006286184\n",
            "at epochs  23\n",
            "cost: 2.2989690105173075\n",
            "at epochs  24\n",
            "cost: 2.298733034529876\n",
            "at epochs  25\n",
            "cost: 2.2984970783058216\n",
            "at epochs  26\n",
            "cost: 2.2982611418270857\n",
            "at epochs  27\n",
            "cost: 2.298025225075621\n",
            "at epochs  28\n",
            "cost: 2.2977893280333914\n",
            "at epochs  29\n",
            "cost: 2.2975534506823716\n",
            "at epochs  30\n",
            "cost: 2.2973175930045464\n",
            "at epochs  31\n",
            "cost: 2.2970817549819125\n",
            "at epochs  32\n",
            "cost: 2.296845936596477\n",
            "at epochs  33\n",
            "cost: 2.2966101378302572\n",
            "at epochs  34\n",
            "cost: 2.2963743586652825\n",
            "at epochs  35\n",
            "cost: 2.296138599083593\n",
            "at epochs  36\n",
            "cost: 2.295902859067239\n",
            "at epochs  37\n",
            "cost: 2.2956671385982834\n",
            "at epochs  38\n",
            "cost: 2.2954314376587988\n",
            "at epochs  39\n",
            "cost: 2.2951957562308696\n",
            "at epochs  40\n",
            "cost: 2.2949600942965915\n",
            "at epochs  41\n",
            "cost: 2.294724451838071\n",
            "at epochs  42\n",
            "cost: 2.294488828837426\n",
            "at epochs  43\n",
            "cost: 2.2942532252767855\n",
            "at epochs  44\n",
            "cost: 2.29401764113829\n",
            "at epochs  45\n",
            "cost: 2.2937820764040917\n",
            "at epochs  46\n",
            "cost: 2.2935465310563528\n",
            "at epochs  47\n",
            "cost: 2.293311005077249\n",
            "at epochs  48\n",
            "cost: 2.2930754984489647\n",
            "at epochs  49\n",
            "cost: 2.292840011153699\n"
          ],
          "name": "stdout"
        }
      ]
    },
    {
      "metadata": {
        "id": "Y5y9Uimzknr5",
        "colab_type": "code",
        "colab": {
          "base_uri": "https://localhost:8080/",
          "height": 238
        },
        "outputId": "4a4c2883-329a-4335-d8ce-4710f59fdee0"
      },
      "cell_type": "code",
      "source": [
        "weights"
      ],
      "execution_count": 6,
      "outputs": [
        {
          "output_type": "execute_result",
          "data": {
            "text/plain": [
              "array([[3.74418098e-04, 3.24064730e-05, 3.28668133e-04, ...,\n",
              "        2.48838366e-04, 5.67778823e-04, 9.96422618e-04],\n",
              "       [1.76795576e-04, 1.26284247e-04, 9.01079832e-04, ...,\n",
              "        5.99570940e-04, 4.79572730e-04, 4.82189894e-04],\n",
              "       [9.89724459e-05, 8.95138015e-04, 4.63048281e-04, ...,\n",
              "        9.00871949e-04, 1.22155181e-04, 4.07500778e-04],\n",
              "       ...,\n",
              "       [8.46073097e-04, 8.40934480e-04, 2.39273204e-04, ...,\n",
              "        4.44128948e-04, 9.03862122e-04, 7.07210655e-04],\n",
              "       [8.99504406e-04, 4.54041644e-04, 3.71588246e-04, ...,\n",
              "        7.13372741e-04, 9.92221642e-04, 7.67337372e-04],\n",
              "       [8.09077953e-04, 1.31594839e-04, 5.64695934e-04, ...,\n",
              "        1.26642281e-04, 9.03791739e-04, 2.85481544e-04]])"
            ]
          },
          "metadata": {
            "tags": []
          },
          "execution_count": 6
        }
      ]
    },
    {
      "metadata": {
        "id": "67OXlysJcLX2",
        "colab_type": "code",
        "colab": {
          "base_uri": "https://localhost:8080/",
          "height": 51
        },
        "outputId": "71c4e68c-cf6f-405b-c763-054b5400f9c5"
      },
      "cell_type": "code",
      "source": [
        "SM"
      ],
      "execution_count": 7,
      "outputs": [
        {
          "output_type": "execute_result",
          "data": {
            "text/plain": [
              "array([0.09996127, 0.09825784, 0.10013887, 0.09968448, 0.10074713,\n",
              "       0.09879613, 0.10008475, 0.10043309, 0.10091717, 0.10097927])"
            ]
          },
          "metadata": {
            "tags": []
          },
          "execution_count": 7
        }
      ]
    },
    {
      "metadata": {
        "id": "NLNMbR-lcO4T",
        "colab_type": "code",
        "colab": {}
      },
      "cell_type": "code",
      "source": [
        ""
      ],
      "execution_count": 0,
      "outputs": []
    },
    {
      "metadata": {
        "id": "B-lqnfED7Hhl",
        "colab_type": "code",
        "colab": {}
      },
      "cell_type": "code",
      "source": [
        ""
      ],
      "execution_count": 0,
      "outputs": []
    },
    {
      "metadata": {
        "id": "vCeUZyGtvBhy",
        "colab_type": "code",
        "colab": {}
      },
      "cell_type": "code",
      "source": [
        ""
      ],
      "execution_count": 0,
      "outputs": []
    },
    {
      "metadata": {
        "id": "e-TqcPMEu_1A",
        "colab_type": "code",
        "colab": {}
      },
      "cell_type": "code",
      "source": [
        ""
      ],
      "execution_count": 0,
      "outputs": []
    },
    {
      "metadata": {
        "id": "XG2DC8QMu_zy",
        "colab_type": "code",
        "colab": {}
      },
      "cell_type": "code",
      "source": [
        ""
      ],
      "execution_count": 0,
      "outputs": []
    },
    {
      "metadata": {
        "id": "TgVTKGyZunwO",
        "colab_type": "code",
        "colab": {}
      },
      "cell_type": "code",
      "source": [
        ""
      ],
      "execution_count": 0,
      "outputs": []
    },
    {
      "metadata": {
        "id": "jlxtid2n7O55",
        "colab_type": "code",
        "colab": {}
      },
      "cell_type": "code",
      "source": [
        ""
      ],
      "execution_count": 0,
      "outputs": []
    },
    {
      "metadata": {
        "id": "LbB4JLxc7Tcm",
        "colab_type": "code",
        "colab": {}
      },
      "cell_type": "code",
      "source": [
        ""
      ],
      "execution_count": 0,
      "outputs": []
    }
  ]
}