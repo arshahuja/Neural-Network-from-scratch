{
  "nbformat": 4,
  "nbformat_minor": 0,
  "metadata": {
    "colab": {
      "name": "NN with one hidden layer.ipynb",
      "version": "0.3.2",
      "provenance": [],
      "collapsed_sections": [],
      "toc_visible": true
    },
    "kernelspec": {
      "name": "python3",
      "display_name": "Python 3"
    }
  },
  "cells": [
    {
      "metadata": {
        "id": "eCoaiJIqzoV8",
        "colab_type": "code",
        "colab": {}
      },
      "cell_type": "code",
      "source": [
        "import numpy as np\n",
        "import pandas as pd"
      ],
      "execution_count": 0,
      "outputs": []
    },
    {
      "metadata": {
        "id": "ZYmqISIlz9v6",
        "colab_type": "code",
        "colab": {}
      },
      "cell_type": "code",
      "source": [
        "data=pd.read_csv('train.csv')\n",
        "#len(data)\n",
        "#data.head()"
      ],
      "execution_count": 0,
      "outputs": []
    },
    {
      "metadata": {
        "id": "8B9kfCEqz_qv",
        "colab_type": "code",
        "colab": {
          "base_uri": "https://localhost:8080/",
          "height": 51
        },
        "outputId": "5d87633f-3b2e-4cbd-9430-3169c5f8416e"
      },
      "cell_type": "code",
      "source": [
        "y=pd.concat([data['label'],pd.get_dummies(data['label'],prefix='digit')],axis=1).drop(['label'],axis=1)\n",
        "y=y.as_matrix()\n",
        "print(y.shape)\n",
        "#y=data['label'].as_matrix()\n",
        "#y=y.reshape(-1,1)\n",
        "#print(y.shape)\n",
        "\n",
        "x=data.iloc[:,0:-1].as_matrix()\n",
        "x0=np.ones((42000,1))\n",
        "#normalize the data\n",
        "x=x/255\n",
        "x=np.concatenate((x0,x),axis=1)\n",
        "print(x.shape)\n",
        "\n",
        "\n"
      ],
      "execution_count": 3,
      "outputs": [
        {
          "output_type": "stream",
          "text": [
            "(42000, 10)\n",
            "(42000, 785)\n"
          ],
          "name": "stdout"
        }
      ]
    },
    {
      "metadata": {
        "id": "YRpPoZoZ84lw",
        "colab_type": "code",
        "colab": {}
      },
      "cell_type": "code",
      "source": [
        "def activation_function(z,activation):\n",
        "  if activation==\"sigmoid\":\n",
        "    a=1/(1+np.exp(-z))\n",
        "    return a\n",
        "  if activation==\"softmax\":\n",
        "    a=np.exp(z)/(np.sum(np.exp(z)))\n",
        "    return a"
      ],
      "execution_count": 0,
      "outputs": []
    },
    {
      "metadata": {
        "id": "dJaDOCVF1n8i",
        "colab_type": "code",
        "colab": {}
      },
      "cell_type": "code",
      "source": [
        "def update_weights_single_layer(x, w1, w2, step_size):\n",
        "  for epochs in range(30):\n",
        "    for i in range(len(data)):\n",
        "      \n",
        "      #forward pass code begins here --\n",
        "      z1=np.dot(x[0].reshape(1,785),w1)\n",
        "      #print(\"shape of z1\",z1.shape)\n",
        "      a1=activation_function(z1,'sigmoid')\n",
        "      a1=a1.reshape(100,)\n",
        "      #print(\"shape of a1\",a1.shape)\n",
        "      a1_b=(np.concatenate((np.ones(1),a1),axis=0)).reshape(1,101)   #a1_b is a1 with added bias\n",
        "      #print(\"shape of a1_b\",a1_b.shape)\n",
        "      w2_b=np.concatenate((np.ones((1,10)),w2),axis=0)     #w2_b is the weight with added bias\n",
        "      z2=np.dot(a1_b,w2_b)\n",
        "      #print(\"shape of z2\",z2.shape)\n",
        "      a2=activation_function(z2,'softmax')\n",
        "      #print(\"shape of a2\",a2.shape)\n",
        "      # --\n",
        "      \n",
        "      #cost function --\n",
        "      log_pred=np.log(a2)\n",
        "      cost=-(np.sum(y[0]*log_pred))\n",
        "    \n",
        "      # --\n",
        "\n",
        "      #back prop code begins here--\n",
        "      prod=y[0]*(a2-1)  #shape is (1,10)\n",
        "      der_w2=prod*(a1).reshape(100,1)    \n",
        "      #print(der_w2.shape)\n",
        "      w2=w2-(step_size*der_w2) #shape is (100,10)   #updated w2\n",
        "      #print(\"shape of updated w2\",w2.shape)\n",
        "      #print(w2)\n",
        "\n",
        "      a1_reshape=a1.reshape(100,1)\n",
        "      der_w1=(np.dot(np.dot(np.dot(np.dot(prod,w2.reshape(10,100)),a1),(a1-1).reshape(1,100)).reshape(100,1),x[0].reshape(1,785))).reshape(785,100)\n",
        "      #print(der_w1.shape)\n",
        "      w1=w1-(step_size*der_w1)   #updated w1 shape is (785,100)\n",
        "      #print(w1)\n",
        "      # --\n",
        "    print(\"at epochs \", epochs)\n",
        "    print(\"cost:\", cost)\n",
        "      # --\n",
        "    #print(cost)\n",
        "\n"
      ],
      "execution_count": 0,
      "outputs": []
    },
    {
      "metadata": {
        "id": "Kq7CPbyG_n0_",
        "colab_type": "code",
        "colab": {
          "base_uri": "https://localhost:8080/",
          "height": 51
        },
        "outputId": "d160b23a-7adb-4ad0-f5d9-11c9cad3f5bf"
      },
      "cell_type": "code",
      "source": [
        "w1=np.random.rand(785,100) # w1 and w2 are the weights\n",
        "w2=np.random.rand(100,10)\n",
        "update_weights_single_layer(x, w1, w2, 0.0001)"
      ],
      "execution_count": 6,
      "outputs": [
        {
          "output_type": "stream",
          "text": [
            "at epochs  0\n",
            "cost: 0.00023913837313722686\n"
          ],
          "name": "stdout"
        }
      ]
    },
    {
      "metadata": {
        "id": "P2RdpuwQclPH",
        "colab_type": "code",
        "colab": {
          "base_uri": "https://localhost:8080/",
          "height": 34
        },
        "outputId": "457d075b-3f88-496d-c07b-846ee9ed7ce1"
      },
      "cell_type": "code",
      "source": [
        "w1.shape"
      ],
      "execution_count": 7,
      "outputs": [
        {
          "output_type": "execute_result",
          "data": {
            "text/plain": [
              "(785, 100)"
            ]
          },
          "metadata": {
            "tags": []
          },
          "execution_count": 7
        }
      ]
    },
    {
      "metadata": {
        "id": "qOqQ6kCmrxl4",
        "colab_type": "text"
      },
      "cell_type": "markdown",
      "source": [
        "## Testing **Data**\n",
        "# Accuracy of 89.9%"
      ]
    },
    {
      "metadata": {
        "id": "IVqVQmGKoqGu",
        "colab_type": "code",
        "colab": {}
      },
      "cell_type": "code",
      "source": [
        "test_data=pd.read_csv('mnist test.csv')"
      ],
      "execution_count": 0,
      "outputs": []
    },
    {
      "metadata": {
        "id": "iRJkX1vsq4sx",
        "colab_type": "code",
        "colab": {
          "base_uri": "https://localhost:8080/",
          "height": 253
        },
        "outputId": "f8f4d858-97b3-458c-87dc-da047040ec03"
      },
      "cell_type": "code",
      "source": [
        "test_data=pd.concat([test_data,pd.get_dummies(test_data['label'],prefix='label')],axis=1).drop(['label'],axis=1)\n",
        "test_data.head()"
      ],
      "execution_count": 9,
      "outputs": [
        {
          "output_type": "execute_result",
          "data": {
            "text/html": [
              "<div>\n",
              "<style scoped>\n",
              "    .dataframe tbody tr th:only-of-type {\n",
              "        vertical-align: middle;\n",
              "    }\n",
              "\n",
              "    .dataframe tbody tr th {\n",
              "        vertical-align: top;\n",
              "    }\n",
              "\n",
              "    .dataframe thead th {\n",
              "        text-align: right;\n",
              "    }\n",
              "</style>\n",
              "<table border=\"1\" class=\"dataframe\">\n",
              "  <thead>\n",
              "    <tr style=\"text-align: right;\">\n",
              "      <th></th>\n",
              "      <th>1x1</th>\n",
              "      <th>1x2</th>\n",
              "      <th>1x3</th>\n",
              "      <th>1x4</th>\n",
              "      <th>1x5</th>\n",
              "      <th>1x6</th>\n",
              "      <th>1x7</th>\n",
              "      <th>1x8</th>\n",
              "      <th>1x9</th>\n",
              "      <th>1x10</th>\n",
              "      <th>...</th>\n",
              "      <th>label_0</th>\n",
              "      <th>label_1</th>\n",
              "      <th>label_2</th>\n",
              "      <th>label_3</th>\n",
              "      <th>label_4</th>\n",
              "      <th>label_5</th>\n",
              "      <th>label_6</th>\n",
              "      <th>label_7</th>\n",
              "      <th>label_8</th>\n",
              "      <th>label_9</th>\n",
              "    </tr>\n",
              "  </thead>\n",
              "  <tbody>\n",
              "    <tr>\n",
              "      <th>0</th>\n",
              "      <td>0</td>\n",
              "      <td>0</td>\n",
              "      <td>0</td>\n",
              "      <td>0</td>\n",
              "      <td>0</td>\n",
              "      <td>0</td>\n",
              "      <td>0</td>\n",
              "      <td>0</td>\n",
              "      <td>0</td>\n",
              "      <td>0</td>\n",
              "      <td>...</td>\n",
              "      <td>0</td>\n",
              "      <td>0</td>\n",
              "      <td>0</td>\n",
              "      <td>0</td>\n",
              "      <td>0</td>\n",
              "      <td>0</td>\n",
              "      <td>0</td>\n",
              "      <td>1</td>\n",
              "      <td>0</td>\n",
              "      <td>0</td>\n",
              "    </tr>\n",
              "    <tr>\n",
              "      <th>1</th>\n",
              "      <td>0</td>\n",
              "      <td>0</td>\n",
              "      <td>0</td>\n",
              "      <td>0</td>\n",
              "      <td>0</td>\n",
              "      <td>0</td>\n",
              "      <td>0</td>\n",
              "      <td>0</td>\n",
              "      <td>0</td>\n",
              "      <td>0</td>\n",
              "      <td>...</td>\n",
              "      <td>0</td>\n",
              "      <td>0</td>\n",
              "      <td>1</td>\n",
              "      <td>0</td>\n",
              "      <td>0</td>\n",
              "      <td>0</td>\n",
              "      <td>0</td>\n",
              "      <td>0</td>\n",
              "      <td>0</td>\n",
              "      <td>0</td>\n",
              "    </tr>\n",
              "    <tr>\n",
              "      <th>2</th>\n",
              "      <td>0</td>\n",
              "      <td>0</td>\n",
              "      <td>0</td>\n",
              "      <td>0</td>\n",
              "      <td>0</td>\n",
              "      <td>0</td>\n",
              "      <td>0</td>\n",
              "      <td>0</td>\n",
              "      <td>0</td>\n",
              "      <td>0</td>\n",
              "      <td>...</td>\n",
              "      <td>0</td>\n",
              "      <td>1</td>\n",
              "      <td>0</td>\n",
              "      <td>0</td>\n",
              "      <td>0</td>\n",
              "      <td>0</td>\n",
              "      <td>0</td>\n",
              "      <td>0</td>\n",
              "      <td>0</td>\n",
              "      <td>0</td>\n",
              "    </tr>\n",
              "    <tr>\n",
              "      <th>3</th>\n",
              "      <td>0</td>\n",
              "      <td>0</td>\n",
              "      <td>0</td>\n",
              "      <td>0</td>\n",
              "      <td>0</td>\n",
              "      <td>0</td>\n",
              "      <td>0</td>\n",
              "      <td>0</td>\n",
              "      <td>0</td>\n",
              "      <td>0</td>\n",
              "      <td>...</td>\n",
              "      <td>1</td>\n",
              "      <td>0</td>\n",
              "      <td>0</td>\n",
              "      <td>0</td>\n",
              "      <td>0</td>\n",
              "      <td>0</td>\n",
              "      <td>0</td>\n",
              "      <td>0</td>\n",
              "      <td>0</td>\n",
              "      <td>0</td>\n",
              "    </tr>\n",
              "    <tr>\n",
              "      <th>4</th>\n",
              "      <td>0</td>\n",
              "      <td>0</td>\n",
              "      <td>0</td>\n",
              "      <td>0</td>\n",
              "      <td>0</td>\n",
              "      <td>0</td>\n",
              "      <td>0</td>\n",
              "      <td>0</td>\n",
              "      <td>0</td>\n",
              "      <td>0</td>\n",
              "      <td>...</td>\n",
              "      <td>0</td>\n",
              "      <td>0</td>\n",
              "      <td>0</td>\n",
              "      <td>0</td>\n",
              "      <td>1</td>\n",
              "      <td>0</td>\n",
              "      <td>0</td>\n",
              "      <td>0</td>\n",
              "      <td>0</td>\n",
              "      <td>0</td>\n",
              "    </tr>\n",
              "  </tbody>\n",
              "</table>\n",
              "<p>5 rows × 794 columns</p>\n",
              "</div>"
            ],
            "text/plain": [
              "   1x1  1x2  1x3  1x4  1x5  1x6  1x7  1x8  1x9  1x10   ...     label_0  \\\n",
              "0    0    0    0    0    0    0    0    0    0     0   ...           0   \n",
              "1    0    0    0    0    0    0    0    0    0     0   ...           0   \n",
              "2    0    0    0    0    0    0    0    0    0     0   ...           0   \n",
              "3    0    0    0    0    0    0    0    0    0     0   ...           1   \n",
              "4    0    0    0    0    0    0    0    0    0     0   ...           0   \n",
              "\n",
              "   label_1  label_2  label_3  label_4  label_5  label_6  label_7  label_8  \\\n",
              "0        0        0        0        0        0        0        1        0   \n",
              "1        0        1        0        0        0        0        0        0   \n",
              "2        1        0        0        0        0        0        0        0   \n",
              "3        0        0        0        0        0        0        0        0   \n",
              "4        0        0        0        1        0        0        0        0   \n",
              "\n",
              "   label_9  \n",
              "0        0  \n",
              "1        0  \n",
              "2        0  \n",
              "3        0  \n",
              "4        0  \n",
              "\n",
              "[5 rows x 794 columns]"
            ]
          },
          "metadata": {
            "tags": []
          },
          "execution_count": 9
        }
      ]
    },
    {
      "metadata": {
        "id": "now3oJPKcz17",
        "colab_type": "code",
        "colab": {
          "base_uri": "https://localhost:8080/",
          "height": 34
        },
        "outputId": "c38b1f84-b758-4e52-d698-361bffea45d8"
      },
      "cell_type": "code",
      "source": [
        "\n",
        "test_x0=np.ones((10000,1))\n",
        "test_x=test_data.iloc[:,:784]/255  #divding by 255 to normalize the data in the range(0,255) \n",
        "test_final_x=np.concatenate((test_x0,test_x),axis=1)\n",
        "count=0\n",
        "\n",
        "for i in range(len(test_data)):\n",
        "  z1=np.dot(test_final_x[i],w1)\n",
        "  z1.reshape(1,100)\n",
        "  a1=activation_function(z1,'sigmoid') \n",
        "\n",
        "  a1_b=(np.concatenate((np.ones(1),a1),axis=0)).reshape(1,101)   #a1_b is a1 with added bias\n",
        "  #print(a1.shape)\n",
        "\n",
        "  w2_b=np.concatenate((np.ones((1,10)),w2),axis=0)     #w2_b is the weight with added bias\n",
        "  z2=np.dot(a1_b,w2_b)\n",
        "  #print(z2.shape)\n",
        "  a2=activation_function(z2,'softmax')\n",
        "  \n",
        "  test_y_true=test_data.iloc[i,784:]\n",
        "  test_y_true=np.array(test_y_true)\n",
        "    \n",
        "  index=np.argmax(test_y_true)\n",
        "  index2=np.argmax(a2)\n",
        "  if(index==index2):\n",
        "    count=count+1\n",
        "count"
      ],
      "execution_count": 10,
      "outputs": [
        {
          "output_type": "execute_result",
          "data": {
            "text/plain": [
              "980"
            ]
          },
          "metadata": {
            "tags": []
          },
          "execution_count": 10
        }
      ]
    },
    {
      "metadata": {
        "id": "NTnrJ01X5w_m",
        "colab_type": "code",
        "colab": {}
      },
      "cell_type": "code",
      "source": [
        ""
      ],
      "execution_count": 0,
      "outputs": []
    }
  ]
}